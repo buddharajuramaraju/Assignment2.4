{
 "cells": [
  {
   "cell_type": "markdown",
   "metadata": {},
   "source": [
    "### Problem Statement 1:\n",
    "Write a Python Program(with class concepts) to find the area of the triangle using the\n",
    "below formula.\n",
    "area = (s*(s-a)*(s-b)*(s-c)) ** 0.5\n",
    "Function to take the length of the sides of triangle from user should be defined in the\n",
    "parent class and function to calculate the area should be defined in subclass.\n",
    "\n",
    "\n",
    "\n"
   ]
  },
  {
   "cell_type": "code",
   "execution_count": 4,
   "metadata": {
    "collapsed": true
   },
   "outputs": [],
   "source": [
    "class TriangleInput():\n",
    "    def __init__(self):\n",
    "        pass\n",
    "    def getTriangleSides(self):\n",
    "        while True:\n",
    "            self._a = int(input(\"Please enter length of triangle side-1 \"))\n",
    "            self._b = int(input(\"Please enter length of triangle side-2 \"))\n",
    "            self._c = int(input(\"Please enter length of triangle side-3 \"))\n",
    "            if self._a+self._b > self._c and self._b+self._c > self._a and self._c+self._a > self._b: # triangle validation\n",
    "                break\n",
    "            else:\n",
    "                print(\"we cant form trianlge with given values\")"
   ]
  },
  {
   "cell_type": "code",
   "execution_count": 5,
   "metadata": {
    "collapsed": true
   },
   "outputs": [],
   "source": [
    "class TrianlgeArea(TriangleInput):\n",
    "    def getArea(self):\n",
    "        s = (self._a+self._b+self._c)/2\n",
    "        area = (s*(s-self._a)*(s-self._b)*(s-self._c))**.5\n",
    "        return area"
   ]
  },
  {
   "cell_type": "code",
   "execution_count": 8,
   "metadata": {},
   "outputs": [
    {
     "name": "stdout",
     "output_type": "stream",
     "text": [
      "Please enter length of triangle side-1 3\n",
      "Please enter length of triangle side-2 4\n",
      "Please enter length of triangle side-3 5\n",
      "Area of given trianlge is 6.0\n"
     ]
    }
   ],
   "source": [
    "tarea = TrianlgeArea()\n",
    "tarea.getTriangleSides()\n",
    "print(\"Area of given trianlge is {AREA}\".format(AREA = tarea.getArea()))"
   ]
  },
  {
   "cell_type": "markdown",
   "metadata": {},
   "source": [
    "### Problem Statement 2:\n",
    "Write a function filter_long_words() that takes a list of words and an integer n and returns\n",
    "the list of words that are longer than n."
   ]
  },
  {
   "cell_type": "code",
   "execution_count": 9,
   "metadata": {
    "collapsed": true
   },
   "outputs": [],
   "source": [
    "def filter_long_words(wordlist,minlength):\n",
    "    return [word for word in wordlist if len(word) > minlength ]"
   ]
  },
  {
   "cell_type": "code",
   "execution_count": 10,
   "metadata": {},
   "outputs": [
    {
     "data": {
      "text/plain": [
       "['Buddharaju']"
      ]
     },
     "execution_count": 10,
     "metadata": {},
     "output_type": "execute_result"
    }
   ],
   "source": [
    "filter_long_words([\"Ramaraju\",\"Buddharaju\",\"venkata\"],8)"
   ]
  },
  {
   "cell_type": "code",
   "execution_count": 11,
   "metadata": {},
   "outputs": [
    {
     "data": {
      "text/plain": [
       "['Ramaraju', 'Buddharaju', 'venkata']"
      ]
     },
     "execution_count": 11,
     "metadata": {},
     "output_type": "execute_result"
    }
   ],
   "source": [
    "filter_long_words([\"Ramaraju\",\"Buddharaju\",\"venkata\"],5)"
   ]
  },
  {
   "cell_type": "code",
   "execution_count": null,
   "metadata": {
    "collapsed": true
   },
   "outputs": [],
   "source": []
  }
 ],
 "metadata": {
  "kernelspec": {
   "display_name": "Python 3",
   "language": "python",
   "name": "python3"
  },
  "language_info": {
   "codemirror_mode": {
    "name": "ipython",
    "version": 3
   },
   "file_extension": ".py",
   "mimetype": "text/x-python",
   "name": "python",
   "nbconvert_exporter": "python",
   "pygments_lexer": "ipython3",
   "version": "3.6.3"
  }
 },
 "nbformat": 4,
 "nbformat_minor": 2
}
